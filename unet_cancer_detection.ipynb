{
  "nbformat": 4,
  "nbformat_minor": 0,
  "metadata": {
    "accelerator": "GPU",
    "colab": {
      "name": "unet_cancer_detection.ipynb",
      "provenance": [],
      "collapsed_sections": []
    },
    "kernelspec": {
      "display_name": "Python 3",
      "language": "python",
      "name": "python3"
    },
    "language_info": {
      "codemirror_mode": {
        "name": "ipython",
        "version": 3
      },
      "file_extension": ".py",
      "mimetype": "text/x-python",
      "name": "python",
      "nbconvert_exporter": "python",
      "pygments_lexer": "ipython3",
      "version": "3.6.3"
    },
    "pycharm": {
      "stem_cell": {
        "cell_type": "raw",
        "metadata": {
          "collapsed": false
        },
        "source": []
      }
    }
  },
  "cells": [
    {
      "cell_type": "markdown",
      "metadata": {
        "id": "-hhP0Dql1be2",
        "colab_type": "text"
      },
      "source": [
        "<a href=\"https://colab.research.google.com/github/wingated/cs474_labs_f2019/blob/master/DL_Lab4.ipynb\" target=\"_parent\"><img src=\"https://colab.research.google.com/assets/colab-badge.svg\" alt=\"Open In Colab\"/></a>"
      ]
    },
    {
      "cell_type": "markdown",
      "metadata": {
        "colab_type": "text",
        "id": "view-in-github"
      },
      "source": [
        "![](http://liftothers.org/dokuwiki/lib/exe/fetch.php?w=200&tok=a8ac31&media=cs501r_f2016:pos_test_000072_output.png)\n",
        "<img src=\"http://liftothers.org/dokuwiki/lib/exe/fetch.php?media=cs501r_f2016:pos_test_000072.png\" width=\"200\">\n",
        "\n",
        "\n",
        "## Data set\n",
        "The data is given as a set of 1024×1024 PNG images. Each input image (in \n",
        "the ```inputs``` directory) is an RGB image of a section of tissue,\n",
        "and there a file with the same name (in the ```outputs``` directory) \n",
        "that has a dense labeling of whether or not a section of tissue is cancerous\n",
        "(white pixels mean “cancerous”, while black pixels mean “not cancerous”).\n",
        "\n",
        "## Description\n",
        "The idea is to create a virtual radiologist.\n",
        "Images of possibly cancerous tissue samples are given, \n",
        "and the detector must identify where in the tissue cancer may reside.\n",
        "\n",
        "### Network Architecture\n",
        "The “Deep Convolution U-Net” is found in this paper: [(U-Net: Convolutional Networks for Biomedical Image Segmentation)](https://arxiv.org/pdf/1505.04597.pdf) \n",
        "\n",
        "![(Figure 1)](https://lh3.googleusercontent.com/qnHiB3B2KRxC3NjiSDtY08_DgDGTDsHcO6PP53oNRuct-p2QXCR-gyLkDveO850F2tTAhIOPC5Ha06NP9xq1JPsVAHlQ5UXA5V-9zkUrJHGhP_MNHFoRGnjBz1vn1p8P2rMWhlAb6HQ=w2400)"
      ]
    },
    {
      "cell_type": "code",
      "metadata": {
        "colab_type": "code",
        "id": "wQOefmcZVgTl",
        "pycharm": {
          "is_executing": false
        },
        "colab": {
          "base_uri": "https://localhost:8080/",
          "height": 170
        },
        "outputId": "dc81b055-9640-4592-90db-b0c636913e8b"
      },
      "source": [
        "!pip3 install torch\n",
        "!pip3 install torchvision\n",
        "!pip3 install tqdm\n",
        "\n",
        "import torch\n",
        "import torch.nn as nn\n",
        "import torch.nn.functional as F\n",
        "import torch.optim as optim\n",
        "from torch.utils.data import Dataset, DataLoader\n",
        "import numpy as np\n",
        "import matplotlib.pyplot as plt\n",
        "from torchvision import transforms, utils, datasets\n",
        "from tqdm import tqdm\n",
        "from torch.nn.parameter import Parameter\n",
        "import pdb\n",
        "import torchvision\n",
        "import os\n",
        "import gzip\n",
        "import tarfile\n",
        "import gc\n",
        "from IPython.core.ultratb import AutoFormattedTB\n",
        "__ITB__ = AutoFormattedTB(mode = 'Verbose',color_scheme='LightBg', tb_offset = 1)\n",
        "\n",
        "assert torch.cuda.is_available(), \"You need to request a GPU from Runtime > Change Runtime\""
      ],
      "execution_count": null,
      "outputs": [
        {
          "output_type": "stream",
          "text": [
            "Requirement already satisfied: torch in /usr/local/lib/python3.6/dist-packages (1.1.0)\n",
            "Requirement already satisfied: numpy in /usr/local/lib/python3.6/dist-packages (from torch) (1.16.5)\n",
            "Requirement already satisfied: torchvision in /usr/local/lib/python3.6/dist-packages (0.3.0)\n",
            "Requirement already satisfied: numpy in /usr/local/lib/python3.6/dist-packages (from torchvision) (1.16.5)\n",
            "Requirement already satisfied: pillow>=4.1.1 in /usr/local/lib/python3.6/dist-packages (from torchvision) (4.3.0)\n",
            "Requirement already satisfied: six in /usr/local/lib/python3.6/dist-packages (from torchvision) (1.12.0)\n",
            "Requirement already satisfied: torch>=1.1.0 in /usr/local/lib/python3.6/dist-packages (from torchvision) (1.1.0)\n",
            "Requirement already satisfied: olefile in /usr/local/lib/python3.6/dist-packages (from pillow>=4.1.1->torchvision) (0.46)\n",
            "Requirement already satisfied: tqdm in /usr/local/lib/python3.6/dist-packages (4.28.1)\n"
          ],
          "name": "stdout"
        }
      ]
    },
    {
      "cell_type": "code",
      "metadata": {
        "colab_type": "code",
        "id": "Il_53HLSWPTY",
        "colab": {}
      },
      "source": [
        "class CancerDataset(Dataset):\n",
        "  def __init__(self, root, download=True, size=512, train=True):\n",
        "    if download and not os.path.exists(os.path.join(root, 'cancer_data')):\n",
        "      datasets.utils.download_url('http://liftothers.org/cancer_data.tar.gz', root, 'cancer_data.tar.gz', None)\n",
        "      #datasets.utils.download_url('https://nolans-cs-bucket.s3-us-west-1.amazonaws.com/cancer_data.tar.gz', root, 'cancer_data.tar.gz', None)\n",
        "      self.extract_gzip(os.path.join(root, 'cancer_data.tar.gz'))\n",
        "      self.extract_tar(os.path.join(root, 'cancer_data.tar'))\n",
        "    \n",
        "    postfix = 'train' if train else 'test'\n",
        "    root = os.path.join(root, 'cancer_data', 'cancer_data')\n",
        "    self.dataset_folder = torchvision.datasets.ImageFolder(os.path.join(root, 'inputs_' + postfix) ,transform = transforms.Compose([transforms.Resize(size),transforms.ToTensor()]))\n",
        "    self.label_folder = torchvision.datasets.ImageFolder(os.path.join(root, 'outputs_' + postfix) ,transform = transforms.Compose([transforms.Resize(size),transforms.ToTensor()]))\n",
        "\n",
        "  @staticmethod\n",
        "  def extract_gzip(gzip_path, remove_finished=False):\n",
        "    print('Extracting {}'.format(gzip_path))\n",
        "    with open(gzip_path.replace('.gz', ''), 'wb') as out_f, gzip.GzipFile(gzip_path) as zip_f:\n",
        "      out_f.write(zip_f.read())\n",
        "    if remove_finished:\n",
        "      os.unlink(gzip_path)\n",
        "  \n",
        "  @staticmethod\n",
        "  def extract_tar(tar_path):\n",
        "    print('Untarring {}'.format(tar_path))\n",
        "    z = tarfile.TarFile(tar_path)\n",
        "    z.extractall(tar_path.replace('.tar', ''))\n",
        "\n",
        "  def __getitem__(self,index):\n",
        "    img = self.dataset_folder[index]\n",
        "    label = self.label_folder[index]\n",
        "    return img[0],label[0][0]\n",
        "  \n",
        "  def __len__(self):\n",
        "    return len(self.dataset_folder)"
      ],
      "execution_count": null,
      "outputs": []
    },
    {
      "cell_type": "code",
      "metadata": {
        "colab_type": "code",
        "id": "XPgrP88aOtfy",
        "colab": {
          "base_uri": "https://localhost:8080/",
          "height": 34
        },
        "outputId": "f62480c7-cc29-4b69-cd60-e36fa088914f"
      },
      "source": [
        "# Tests that the output dimensions of the conv transpose layers are correct\n",
        "a = nn.ConvTranspose2d(1024, 512, kernel_size = (2, 2), stride = 2)\n",
        "a(torch.zeros(1, 1024, 32, 32)).size()\n"
      ],
      "execution_count": null,
      "outputs": [
        {
          "output_type": "execute_result",
          "data": {
            "text/plain": [
              "torch.Size([1, 512, 64, 64])"
            ]
          },
          "metadata": {
            "tags": []
          },
          "execution_count": 3
        }
      ]
    },
    {
      "cell_type": "code",
      "metadata": {
        "colab_type": "code",
        "id": "jq22IyKanxo_",
        "colab": {}
      },
      "source": [
        "# Class for cancer detection network\n",
        "# Follows the U-Net architecture discussed in this paper: https://arxiv.org/pdf/1505.04597.pdf\n",
        "class CancerDetection(nn.Module):\n",
        "  def __init__(self, in_channels):\n",
        "    super(CancerDetection, self).__init__()\n",
        "    \n",
        "    # Blocks of convolutional layers\n",
        "    self.block1 = ConvolutionBlock(in_channels, 64)\n",
        "    self.block2 = ConvolutionBlock(64, 128)\n",
        "    self.block3 = ConvolutionBlock(128, 256)\n",
        "    self.block4 = ConvolutionBlock(256, 512)\n",
        "    self.block5 = ConvolutionBlock(512, 1024)\n",
        "    self.block6 = ConvolutionBlock(1024, 512)\n",
        "    self.block7 = ConvolutionBlock(512, 256)\n",
        "    self.block8 = ConvolutionBlock(256, 128)\n",
        "    self.block9 = ConvolutionBlock(128, 64)\n",
        "    \n",
        "    # Maxpool function that is used after the first 4 blocks\n",
        "    self.maxpool = nn.MaxPool2d(2)\n",
        "    \n",
        "    # Transpose convolutions that are used to up-sample after blocks 5 through 8\n",
        "    self.conv_transpose5 = nn.ConvTranspose2d(1024, 512, kernel_size = (2, 2), stride = 2)\n",
        "    self.conv_transpose6 = nn.ConvTranspose2d(512, 256, kernel_size = (2, 2), stride = 2)\n",
        "    self.conv_transpose7 = nn.ConvTranspose2d(256, 128, kernel_size = (2, 2), stride = 2)\n",
        "    self.conv_transpose8 = nn.ConvTranspose2d(128, 64, kernel_size = (2, 2), stride = 2)\n",
        "    \n",
        "    # Final convolution applied after the last block (block 9)\n",
        "    self.final_conv = nn.Conv2d(64, 2, kernel_size = (1, 1), stride = 1)\n",
        "    \n",
        "    # Softmax that is used to convert the final output from a vector of scores to a vector of probabilities\n",
        "    self.soft_max = nn.Softmax2d()\n",
        " \n",
        "  def forward(self, x):\n",
        "    # Run the U-Net model\n",
        "    o1 = self.block1(x)\n",
        "    o1_max = self.maxpool(o1)\n",
        "    \n",
        "    o2 = self.block2(o1_max)\n",
        "    o2_max = self.maxpool(o2)\n",
        "    \n",
        "    o3 = self.block3(o2_max)\n",
        "    o3_max = self.maxpool(o3)\n",
        "    \n",
        "    o4 = self.block4(o3_max)\n",
        "    o4_max = self.maxpool(o4)\n",
        "    \n",
        "    o5 = self.block5(o4_max)\n",
        "    o5_up = self.conv_transpose5(o5)\n",
        "    \n",
        "    o6_concat = torch.cat((o4, o5_up), 1)\n",
        "    o6 = self.block6(o6_concat)\n",
        "    o6_up = self.conv_transpose6(o6)\n",
        "    \n",
        "    o7_concat = torch.cat((o3, o6_up), 1)\n",
        "    o7 = self.block7(o7_concat)\n",
        "    o7_up = self.conv_transpose7(o7)\n",
        "    \n",
        "    o8_concat = torch.cat((o2, o7_up), 1)\n",
        "    o8 = self.block8(o8_concat)\n",
        "    o8_up = self.conv_transpose8(o8)\n",
        "    \n",
        "    o9_concat = torch.cat((o1, o8_up), 1)\n",
        "    o9 = self.block9(o9_concat)\n",
        "    \n",
        "    # Apply the final convolution and softmax and return the results\n",
        "    final_results = self.final_conv(o9)\n",
        "    \n",
        "    return final_results\n",
        "  \n",
        "\n",
        "# Class for representing blocks of convolutional layers\n",
        "class ConvolutionBlock(nn.Module):\n",
        "  def __init__(self, in_channels, out_channels):\n",
        "    super(ConvolutionBlock, self).__init__()\n",
        "    \n",
        "    self.net = nn.Sequential(\n",
        "      nn.Conv2d(in_channels, out_channels, kernel_size = (3, 3), stride = 1, padding = (1, 1)),\n",
        "      nn.ReLU(),\n",
        "      nn.Conv2d(out_channels, out_channels, kernel_size = (3, 3), stride = 1, padding = (1, 1)),\n",
        "      nn.ReLU()\n",
        "    )\n",
        "  \n",
        "  def forward(self, x): \n",
        "    return self.net(x)\n",
        "    \n"
      ],
      "execution_count": null,
      "outputs": []
    },
    {
      "cell_type": "code",
      "metadata": {
        "colab_type": "code",
        "id": "NAjagHCdGNAh",
        "colab": {}
      },
      "source": [
        "# Initialize Datasets\n",
        "train_dataset = CancerDataset('/tmp/cancerdata', train = True, size = 256)\n",
        "\n",
        "validate_dataset = CancerDataset('/tmp/cancerdata', train = False, size = 256)\n",
        "\n",
        "# Extract dimensions of the dataset\n",
        "channels, height, width = train_dataset[0][0].size()\n",
        "\n",
        "# Set desired batch size and number of epochs\n",
        "batch_size = 10\n",
        "n_epochs = 10\n",
        "\n",
        "# Initialize the U-Net model and put it in GPU\n",
        "model = CancerDetection(channels)\n",
        "model = model.cuda()\n",
        "\n",
        "# Initialize objective and optimizer\n",
        "objective = nn.CrossEntropyLoss()\n",
        "optimizer = optim.Adam(model.parameters(), lr = 1e-4)"
      ],
      "execution_count": null,
      "outputs": []
    },
    {
      "cell_type": "code",
      "metadata": {
        "colab_type": "code",
        "id": "RkieTbwlYWPS",
        "colab": {
          "base_uri": "https://localhost:8080/",
          "height": 34
        },
        "outputId": "3dec75dd-72f8-4087-e2b0-75469a71544c"
      },
      "source": [
        "# Helper function for computing accuracy\n",
        "# This function iterates through every batch, calculates the total number of \n",
        "#  correct pixels our model predicted, and divides that number by the total \n",
        "#  number of pixels in the image\n",
        "def compute_accuracy(y_hat, y_truth):\n",
        "  batch_accuracy = []\n",
        "  batch_size, c, h, w = y_hat.size()\n",
        "  \n",
        "  num_pixels = h * w\n",
        "  \n",
        "  for i in range(batch_size):\n",
        "    y_hat1 = torch.softmax(y_hat[i], 0)\n",
        "    pred = y_hat1.argmax(0).float()\n",
        "    \n",
        "    true_cancer = y_truth[i]\n",
        "    true_not_cancer = 1 - y_truth[i]\n",
        "    \n",
        "    pred_cancer = pred\n",
        "    pred_not_cancer = 1 - pred\n",
        "    \n",
        "    true_cancer_vals = torch.sum(true_cancer * pred_cancer)\n",
        "    true_not_cancer_vals = torch.sum(true_not_cancer * pred_not_cancer)\n",
        "    \n",
        "    accuracy = ((true_cancer_vals + true_not_cancer_vals) / num_pixels).item()\n",
        "    \n",
        "    batch_accuracy.append(accuracy)\n",
        "    \n",
        "  return np.mean(batch_accuracy)\n",
        "\n",
        "# Helper function for finding validation loss and accuracy\n",
        "def validate(validate_loader): \n",
        "  validate_loss = []\n",
        "  validate_accuracy = []\n",
        "\n",
        "  for x, y_truth in validate_loader:\n",
        "\n",
        "    x, y_truth = x.cuda(async = True), y_truth.cuda(async = True)\n",
        "\n",
        "    y_hat = model(x)\n",
        "\n",
        "    loss = objective(y_hat, y_truth.long())\n",
        "\n",
        "    validate_loss.append(loss.item())\n",
        "\n",
        "    accuracy = compute_accuracy(y_hat, y_truth)\n",
        "\n",
        "    validate_accuracy.append(accuracy.item())\n",
        "\n",
        "  return np.mean(validate_loss), np.mean(validate_accuracy)\n",
        "\n",
        "# Main function for running the model\n",
        "def run_model(n_epochs, batch_size):\n",
        "  try:\n",
        "    # Initialize the data loaders\n",
        "    train_loader = DataLoader(train_dataset,\n",
        "                             batch_size = batch_size,\n",
        "                             pin_memory = True,\n",
        "                             num_workers = 2,\n",
        "                             shuffle = True)\n",
        "\n",
        "    validate_loader = DataLoader(validate_dataset,\n",
        "                             batch_size = batch_size,\n",
        "                             pin_memory = True,\n",
        "                             num_workers = 2,\n",
        "                             shuffle = True)\n",
        "    \n",
        "    # Garbage collector and checking allocated GPU memory\n",
        "    gc.collect()\n",
        "    \n",
        "    print(torch.cuda.memory_allocated(0) / 1e9)\n",
        "    \n",
        "    # Initialize empty lists for losses and accuracies\n",
        "    losses = []\n",
        "    accuracy = []\n",
        "    validation_losses = []\n",
        "    validation_accuracy = []\n",
        "    \n",
        "    total_batches = len(train_loader)\n",
        "\n",
        "    loop = tqdm(total = n_epochs * total_batches, position = 0, leave = False)\n",
        "\n",
        "    # Run through the epochs\n",
        "    for epoch in range(n_epochs):\n",
        "      \n",
        "      epoch_losses = []\n",
        "      epoch_accuracy = []\n",
        "      \n",
        "      # Run through the training data loader\n",
        "      for x, y_truth in train_loader:\n",
        "\n",
        "        # Put data into GPU, run the model, calculate loss and accuracy,\n",
        "        #  store loss and accuracy, and perform back prop\n",
        "        x, y_truth = x.cuda(async = True), y_truth.cuda(async = True)\n",
        "\n",
        "        optimizer.zero_grad()\n",
        "\n",
        "        y_hat = model(x)\n",
        "\n",
        "        loss = objective(y_hat, y_truth.long())\n",
        "\n",
        "        train_accuracy = compute_accuracy(y_hat, y_truth)\n",
        "\n",
        "        epoch_accuracy.append(train_accuracy.item())\n",
        "        \n",
        "        epoch_losses.append(loss.item())\n",
        "\n",
        "        loss.backward()\n",
        "\n",
        "        optimizer.step()\n",
        "\n",
        "        loop.set_description('loss:{:4f}, accuracy:{:4f}'.format(np.mean(epoch_losses), np.mean(epoch_accuracy)))\n",
        "\n",
        "        loop.update(1)\n",
        "        \n",
        "      # Take the mean of the epoch losses and accuracies\n",
        "      losses.append(np.mean(epoch_losses))\n",
        "            \n",
        "      accuracy.append(np.mean(epoch_accuracy))\n",
        "      \n",
        "      # Run validation every other epoch\n",
        "      if epoch % 2 == 0:\n",
        "        validation_results = validate(validate_loader)\n",
        "\n",
        "        validation_losses.append((len(losses), validation_results[0]))\n",
        "\n",
        "        validation_accuracy.append((len(losses), validation_results[1]))\n",
        "          \n",
        "    loop.close()\n",
        "    \n",
        "    # Return the final results\n",
        "    return losses, accuracy, validation_losses, validation_accuracy\n",
        " \n",
        "  except:\n",
        "    __ITB__()\n",
        "\n",
        "train_loss, train_accuracy, validate_loss, validate_accuracy = run_model(n_epochs, batch_size)\n"
      ],
      "execution_count": null,
      "outputs": [
        {
          "output_type": "stream",
          "text": [
            "\r  0%|          | 0/1350 [00:00<?, ?it/s]"
          ],
          "name": "stderr"
        },
        {
          "output_type": "stream",
          "text": [
            "0.126881792\n"
          ],
          "name": "stdout"
        },
        {
          "output_type": "stream",
          "text": [
            ""
          ],
          "name": "stderr"
        }
      ]
    },
    {
      "cell_type": "markdown",
      "metadata": {
        "colab_type": "text",
        "id": "CZ062Jv1jIIu"
      },
      "source": [
        "### Plot performance over time\n"
      ]
    },
    {
      "cell_type": "code",
      "metadata": {
        "colab_type": "code",
        "id": "mTg1jyIsYVZN",
        "colab": {
          "base_uri": "https://localhost:8080/",
          "height": 295
        },
        "outputId": "fcf90c84-93e2-4876-9568-df8f59c6441d"
      },
      "source": [
        "# Plot of loss\n",
        "plt.plot(train_loss, '-b', label = 'Training Loss')\n",
        "x1, y1 = zip(*validate_loss)\n",
        "plt.plot(x1, y1, '-g', label = 'Validation Loss')\n",
        "plt.legend(loc = 'upper right')\n",
        "plt.title(\"Training Loss vs. Validation Loss\")\n",
        "plt.xlabel(\"Time\")\n",
        "plt.ylabel(\"Loss\")\n",
        "plt.show()"
      ],
      "execution_count": null,
      "outputs": [
        {
          "output_type": "display_data",
          "data": {
            "image/png": "[encoded data removed]",
            "text/plain": [
              "<Figure size 432x288 with 1 Axes>"
            ]
          },
          "metadata": {
            "tags": []
          }
        }
      ]
    },
    {
      "cell_type": "code",
      "metadata": {
        "id": "yDNxkI_nFQPB",
        "colab_type": "code",
        "colab": {
          "base_uri": "https://localhost:8080/",
          "height": 295
        },
        "outputId": "ba45db9f-1f91-4965-8c41-f8486d80b422"
      },
      "source": [
        "# Plot of accuracy\n",
        "plt.plot(train_accuracy, '-b', label = 'Training Accuracy')\n",
        "x1, y1 = zip(*validate_accuracy)\n",
        "plt.plot(x1, y1, '-g', label = 'Validation Accuracy')\n",
        "plt.legend(loc = 'upper right')\n",
        "plt.title(\"Training Accuracy vs. Validation Accuracy\")\n",
        "plt.xlabel(\"Time\")\n",
        "plt.ylabel(\"Accuracy\")\n",
        "plt.show()"
      ],
      "execution_count": null,
      "outputs": [
        {
          "output_type": "display_data",
          "data": {
            "image/png": "[encoded data removed]",
            "text/plain": [
              "<Figure size 432x288 with 1 Axes>"
            ]
          },
          "metadata": {
            "tags": []
          }
        }
      ]
    },
    {
      "cell_type": "markdown",
      "metadata": {
        "colab_type": "text",
        "id": "S4s92S2_jQOG"
      },
      "source": [
        "### Generate a prediction on the pos_test_000072.png image"
      ]
    },
    {
      "cell_type": "code",
      "metadata": {
        "colab_type": "code",
        "id": "XXfG3wClh8an",
        "pycharm": {
          "is_executing": false
        },
        "colab": {
          "base_uri": "https://localhost:8080/",
          "height": 286
        },
        "outputId": "a75ca717-18a4-4d6f-943e-c705fd49f9f2"
      },
      "source": [
        "# Code for testing prediction on an image\n",
        "x, truth = validate_dataset[172]\n",
        "\n",
        "model.cpu()\n",
        "\n",
        "predicted = model(x.unsqueeze(0))\n",
        "\n",
        "image = predicted.argmax(1)\n",
        "image1 = transforms.ToPILImage()(image.float())\n",
        "plt.imshow(image1, cmap = 'gray')"
      ],
      "execution_count": null,
      "outputs": [
        {
          "output_type": "execute_result",
          "data": {
            "text/plain": [
              "<matplotlib.image.AxesImage at 0x7fd09e312fd0>"
            ]
          },
          "metadata": {
            "tags": []
          },
          "execution_count": 11
        },
        {
          "output_type": "display_data",
          "data": {
            "image/png": "[encoded data removed]",
            "text/plain": [
              "<Figure size 432x288 with 1 Axes>"
            ]
          },
          "metadata": {
            "tags": []
          }
        }
      ]
    },
    {
      "cell_type": "code",
      "metadata": {
        "id": "3ftMeh6HiA4G",
        "colab_type": "code",
        "colab": {
          "base_uri": "https://localhost:8080/",
          "height": 286
        },
        "outputId": "2c5a47fc-956f-49a9-c8e3-9365ab32e203"
      },
      "source": [
        "# This is what the actual image looks like (so our model seemed to do a pretty \n",
        "#  good job)\n",
        "real_image = transforms.ToPILImage()(truth.float())\n",
        "plt.imshow(real_image, cmap = 'gray')\n"
      ],
      "execution_count": null,
      "outputs": [
        {
          "output_type": "execute_result",
          "data": {
            "text/plain": [
              "<matplotlib.image.AxesImage at 0x7fd09e27a710>"
            ]
          },
          "metadata": {
            "tags": []
          },
          "execution_count": 12
        },
        {
          "output_type": "display_data",
          "data": {
            "image/png": "[encoded data removed]",
            "text/plain": [
              "<Figure size 432x288 with 1 Axes>"
            ]
          },
          "metadata": {
            "tags": []
          }
        }
      ]
    }
  ]
}